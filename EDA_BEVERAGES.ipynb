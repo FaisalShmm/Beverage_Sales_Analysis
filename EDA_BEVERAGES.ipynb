{
 "cells": [
  {
   "cell_type": "markdown",
   "metadata": {},
   "source": [
    "Importing the dataset"
   ]
  },
  {
   "cell_type": "code",
   "execution_count": 47,
   "metadata": {},
   "outputs": [],
   "source": [
    "import pandas as pd \n",
    "from tabulate import tabulate\n",
    "import matplotlib.pyplot as plt\n",
    "ori=pd.read_csv(\"BeverageSalesData.csv\")"
   ]
  },
  {
   "cell_type": "code",
   "execution_count": 48,
   "metadata": {},
   "outputs": [
    {
     "data": {
      "text/html": [
       "<div>\n",
       "<style scoped>\n",
       "    .dataframe tbody tr th:only-of-type {\n",
       "        vertical-align: middle;\n",
       "    }\n",
       "\n",
       "    .dataframe tbody tr th {\n",
       "        vertical-align: top;\n",
       "    }\n",
       "\n",
       "    .dataframe thead th {\n",
       "        text-align: right;\n",
       "    }\n",
       "</style>\n",
       "<table border=\"1\" class=\"dataframe\">\n",
       "  <thead>\n",
       "    <tr style=\"text-align: right;\">\n",
       "      <th></th>\n",
       "      <th>SrNo</th>\n",
       "      <th>TransactionDate</th>\n",
       "      <th>RetailerId</th>\n",
       "      <th>RetailerName</th>\n",
       "      <th>State</th>\n",
       "      <th>City</th>\n",
       "      <th>Lat</th>\n",
       "      <th>Long</th>\n",
       "      <th>ProductItemID</th>\n",
       "      <th>Category</th>\n",
       "      <th>...</th>\n",
       "      <th>SalesChannel</th>\n",
       "      <th>ChannelType</th>\n",
       "      <th>OrderQty</th>\n",
       "      <th>OrderQty_N</th>\n",
       "      <th>SalesValue</th>\n",
       "      <th>Discount</th>\n",
       "      <th>Country</th>\n",
       "      <th>CostPerUnit</th>\n",
       "      <th>MarginPercentage</th>\n",
       "      <th>Profit</th>\n",
       "    </tr>\n",
       "  </thead>\n",
       "  <tbody>\n",
       "    <tr>\n",
       "      <th>0</th>\n",
       "      <td>1</td>\n",
       "      <td>2020/08/26</td>\n",
       "      <td>376</td>\n",
       "      <td>Kiwi Corner Creations</td>\n",
       "      <td>Canterbury</td>\n",
       "      <td>Christchurch</td>\n",
       "      <td>-43.5321</td>\n",
       "      <td>172.6362</td>\n",
       "      <td>65</td>\n",
       "      <td>Cold Bewerages</td>\n",
       "      <td>...</td>\n",
       "      <td>E-Commerce</td>\n",
       "      <td>Online</td>\n",
       "      <td>254</td>\n",
       "      <td>254</td>\n",
       "      <td>34290</td>\n",
       "      <td>10</td>\n",
       "      <td>New Zealand</td>\n",
       "      <td>128</td>\n",
       "      <td>0.15</td>\n",
       "      <td>1905</td>\n",
       "    </tr>\n",
       "    <tr>\n",
       "      <th>1</th>\n",
       "      <td>2</td>\n",
       "      <td>2021/06/09</td>\n",
       "      <td>324</td>\n",
       "      <td>Krabi Craftsmarket</td>\n",
       "      <td>Krabi</td>\n",
       "      <td>Ao Nang</td>\n",
       "      <td>8.0376</td>\n",
       "      <td>98.8150</td>\n",
       "      <td>24</td>\n",
       "      <td>Cold Bewerages</td>\n",
       "      <td>...</td>\n",
       "      <td>Vending Machines</td>\n",
       "      <td>D2C</td>\n",
       "      <td>80</td>\n",
       "      <td>80</td>\n",
       "      <td>4560</td>\n",
       "      <td>5</td>\n",
       "      <td>Thailand</td>\n",
       "      <td>48</td>\n",
       "      <td>0.20</td>\n",
       "      <td>720</td>\n",
       "    </tr>\n",
       "  </tbody>\n",
       "</table>\n",
       "<p>2 rows × 29 columns</p>\n",
       "</div>"
      ],
      "text/plain": [
       "   SrNo TransactionDate  RetailerId                 RetailerName       State  \\\n",
       "0     1      2020/08/26         376    Kiwi Corner Creations      Canterbury   \n",
       "1     2      2021/06/09         324   Krabi Craftsmarket               Krabi   \n",
       "\n",
       "                   City      Lat      Long  ProductItemID        Category  \\\n",
       "0   Christchurch        -43.5321  172.6362             65  Cold Bewerages   \n",
       "1   Ao Nang               8.0376   98.8150             24  Cold Bewerages   \n",
       "\n",
       "   ...      SalesChannel ChannelType OrderQty OrderQty_N SalesValue  Discount  \\\n",
       "0  ...        E-Commerce      Online      254        254      34290        10   \n",
       "1  ...  Vending Machines         D2C       80         80       4560         5   \n",
       "\n",
       "         Country CostPerUnit MarginPercentage Profit  \n",
       "0   New Zealand          128             0.15   1905  \n",
       "1   Thailand              48             0.20    720  \n",
       "\n",
       "[2 rows x 29 columns]"
      ]
     },
     "execution_count": 48,
     "metadata": {},
     "output_type": "execute_result"
    }
   ],
   "source": [
    "data=ori.copy()\n",
    "data.head(2)"
   ]
  },
  {
   "cell_type": "code",
   "execution_count": 49,
   "metadata": {},
   "outputs": [
    {
     "data": {
      "text/plain": [
       "array([' New Zealand ', ' Thailand    ', ' Vietnam     ', ' Brunei      ',\n",
       "       ' Indonesia   ', ' Australia   ', 'India', ' Singapore   ',\n",
       "       ' Myanmar     ', ' Philippines ', ' Malaysia    ', ' Cambodia    ',\n",
       "       ' Laos        ', ' Myanmar   '], dtype=object)"
      ]
     },
     "execution_count": 49,
     "metadata": {},
     "output_type": "execute_result"
    }
   ],
   "source": [
    "s=data['Country'].unique()\n",
    "s"
   ]
  },
  {
   "cell_type": "markdown",
   "metadata": {},
   "source": [
    "💠 There are 14 distinct Countries engaged in this bevereage business"
   ]
  },
  {
   "cell_type": "code",
   "execution_count": 50,
   "metadata": {},
   "outputs": [
    {
     "data": {
      "text/plain": [
       "(25000, 29)"
      ]
     },
     "execution_count": 50,
     "metadata": {},
     "output_type": "execute_result"
    }
   ],
   "source": [
    "data.shape"
   ]
  },
  {
   "cell_type": "markdown",
   "metadata": {},
   "source": [
    "💠There are 25k rows and 29 Columns or attribute "
   ]
  },
  {
   "cell_type": "code",
   "execution_count": 51,
   "metadata": {},
   "outputs": [
    {
     "data": {
      "text/plain": [
       "SrNo   TransactionDate  RetailerId  RetailerName             State      City         Lat        Long       ProductItemID  Category        Brand         Product         PackagingType  PackagingQty  PackagingCategory  PackagingQty_N_ml  MRP_UnitPrice  Product_Launch_Date  IsNewProduct  SalesChannel                            ChannelType    OrderQty  OrderQty_N  SalesValue  Discount  Country  CostPerUnit  MarginPercentage  Profit\n",
       "9      2020/08/03       131         CityKolkataPoint131      Kolkata    West Bengal  16.631722  96.319782  25             Cold Bewerages  Coca_Cola     Diet Coke       Cans           180ml         Regular            180                30             1992/07/30           Running       E-Commerce                              Online         150       150         4140        8         India    26           0.15              315       1\n",
       "16547  2021/10/17       112         FreshKolkataPoint112     Kolkata    West Bengal  10.238653  92.754118  135            Cold Bewerages  RimZim        RimZim          PET            750ml         Regular            750                60             2013/12/08           Running       Vending Machines                        D2C            208       208         11232       10        India    48           0.20              1248      1\n",
       "16626  2022/06/26       25          SunriseKolkataMart25     Kolkata    West Bengal  16.119282  69.696870  7              Cold Bewerages  Coca_Cola     Coca_Cola       PET            250 ml        Regular            250                25             1991/04/22           Running       Sports Arenas and Entertainment Venues  General Trade  316       316         7110        10        India    21           0.15              395       1\n",
       "16625  2019/08/21       47          HarvestChennaiPlaza47    Chennai    Tamil Nadu   28.681755  94.595514  95             Cold Bewerages  Maaza         Maaza Original  PET            1250 ml       Regular            1250               60             1998/07/22           Running       Retail Stores                           General Trade  134       134         7397        8         India    48           0.20              965       1\n",
       "16622  2021/02/10       7           HarvestPunePlaza7        Pune       Maharashtra  14.400308  89.164369  88             Cold Bewerages  Maaza         Maaza Original  Cans           240 ml        Regular            240                40             1997/11/18           Running       Vending Machines                        D2C            92        92          3496        5         India    32           0.20              552       1\n",
       "                                                                                                                                                                                                                                                                                                                                                                                                                                                 ..\n",
       "8226   2020/07/13       146         GreenBangaloreMarket146  Bangalore  Karnataka    20.514289  77.103758  64             Cold Bewerages  Limca         Limca           PET            2000 ml       Regular            2000               90             1991/03/13           Running       Vending Machines                        D2C            384       384         31104       10        India    77           0.15              1728      1\n",
       "8225   2020/06/30       59          CityDelhiShoppe59        Delhi      Delhi        22.891770  70.279884  142            Hot Bewerages   Costa Coffee  Cappuccino      Custom         235ml         Regular            235                155            1992/04/18           Running       Retail Stores                           General Trade  86        86          12664       5         India    132          0.15              1333      1\n",
       "8223   2021/08/17       121         NatureDelhiMart121       Delhi      Delhi        8.702106   83.932041  124            Cold Bewerages  Minute Maid   Pulpy Orange    PET            250ml         Regular            250                45             1993/09/21           Running       Airline and Travel Catering             D2C            382       382         15471       10        India    38           0.15              860       1\n",
       "8221   2021/09/19       108         UrbanKolkataGrocers108   Kolkata    West Bengal  31.966925  91.334755  79             Cold Bewerages  Fanta         Fanta           PET            1500 ml       Regular            1500               70             2018/05/26           Running       Vending Machines                        D2C            480       480         30240       10        India    60           0.15              1680      1\n",
       "25000  2019/04/16       41          NatureJaipurPoint41      Jaipur     Rajasthan    16.529532  72.431627  80             Cold Bewerages  Fanta         Fanta           PET            1750 ml       Regular            1750               90             2005/01/27           Running       Workplaces and Offices                  D2C            264       264         21384       10        India    77           0.15              1188      1\n",
       "Length: 5757, dtype: int64"
      ]
     },
     "execution_count": 51,
     "metadata": {},
     "output_type": "execute_result"
    }
   ],
   "source": [
    "filtered_data = data[data['Country']== 'India'].value_counts()\n",
    "filtered_data"
   ]
  },
  {
   "cell_type": "code",
   "execution_count": 52,
   "metadata": {},
   "outputs": [
    {
     "data": {
      "text/plain": [
       "array(['Kolkata', 'Jaipur', 'Chennai', 'Mumbai', 'Delhi', 'Surat',\n",
       "       'Ahmedabad', 'Hyderabad', 'Pune', 'Bangalore'], dtype=object)"
      ]
     },
     "execution_count": 52,
     "metadata": {},
     "output_type": "execute_result"
    }
   ],
   "source": [
    "data[data['Country']=='India']['State'].unique()"
   ]
  },
  {
   "cell_type": "code",
   "execution_count": 53,
   "metadata": {},
   "outputs": [
    {
     "data": {
      "text/plain": [
       "array(['West Bengal', 'Rajasthan', 'Tamil Nadu', 'Maharashtra', 'Delhi',\n",
       "       'Gujarat', 'Telangana', 'Karnataka'], dtype=object)"
      ]
     },
     "execution_count": 53,
     "metadata": {},
     "output_type": "execute_result"
    }
   ],
   "source": [
    "data['State'], data['City'] = data['City'], data['State']\n",
    "data[data['Country']=='India']['State'].unique()"
   ]
  },
  {
   "cell_type": "markdown",
   "metadata": {},
   "source": [
    "Correction ☑️: State and City values were previously interchanged. It is rectified now."
   ]
  },
  {
   "cell_type": "code",
   "execution_count": 54,
   "metadata": {},
   "outputs": [
    {
     "data": {
      "text/plain": [
       "SrNo   TransactionDate  RetailerId  RetailerName             State        City       Lat        Long       ProductItemID  Category        Brand         Product         PackagingType  PackagingQty  PackagingCategory  PackagingQty_N_ml  MRP_UnitPrice  Product_Launch_Date  IsNewProduct  SalesChannel                            ChannelType    OrderQty  OrderQty_N  SalesValue  Discount  Country  CostPerUnit  MarginPercentage  Profit\n",
       "9      2020/08/03       131         CityKolkataPoint131      West Bengal  Kolkata    16.631722  96.319782  25             Cold Bewerages  Coca_Cola     Diet Coke       Cans           180ml         Regular            180                30             1992/07/30           Running       E-Commerce                              Online         150       150         4140        8         India    26           0.15              315       1\n",
       "16547  2021/10/17       112         FreshKolkataPoint112     West Bengal  Kolkata    10.238653  92.754118  135            Cold Bewerages  RimZim        RimZim          PET            750ml         Regular            750                60             2013/12/08           Running       Vending Machines                        D2C            208       208         11232       10        India    48           0.20              1248      1\n",
       "16626  2022/06/26       25          SunriseKolkataMart25     West Bengal  Kolkata    16.119282  69.696870  7              Cold Bewerages  Coca_Cola     Coca_Cola       PET            250 ml        Regular            250                25             1991/04/22           Running       Sports Arenas and Entertainment Venues  General Trade  316       316         7110        10        India    21           0.15              395       1\n",
       "16625  2019/08/21       47          HarvestChennaiPlaza47    Tamil Nadu   Chennai    28.681755  94.595514  95             Cold Bewerages  Maaza         Maaza Original  PET            1250 ml       Regular            1250               60             1998/07/22           Running       Retail Stores                           General Trade  134       134         7397        8         India    48           0.20              965       1\n",
       "16622  2021/02/10       7           HarvestPunePlaza7        Maharashtra  Pune       14.400308  89.164369  88             Cold Bewerages  Maaza         Maaza Original  Cans           240 ml        Regular            240                40             1997/11/18           Running       Vending Machines                        D2C            92        92          3496        5         India    32           0.20              552       1\n",
       "                                                                                                                                                                                                                                                                                                                                                                                                                                                 ..\n",
       "8226   2020/07/13       146         GreenBangaloreMarket146  Karnataka    Bangalore  20.514289  77.103758  64             Cold Bewerages  Limca         Limca           PET            2000 ml       Regular            2000               90             1991/03/13           Running       Vending Machines                        D2C            384       384         31104       10        India    77           0.15              1728      1\n",
       "8225   2020/06/30       59          CityDelhiShoppe59        Delhi        Delhi      22.891770  70.279884  142            Hot Bewerages   Costa Coffee  Cappuccino      Custom         235ml         Regular            235                155            1992/04/18           Running       Retail Stores                           General Trade  86        86          12664       5         India    132          0.15              1333      1\n",
       "8223   2021/08/17       121         NatureDelhiMart121       Delhi        Delhi      8.702106   83.932041  124            Cold Bewerages  Minute Maid   Pulpy Orange    PET            250ml         Regular            250                45             1993/09/21           Running       Airline and Travel Catering             D2C            382       382         15471       10        India    38           0.15              860       1\n",
       "8221   2021/09/19       108         UrbanKolkataGrocers108   West Bengal  Kolkata    31.966925  91.334755  79             Cold Bewerages  Fanta         Fanta           PET            1500 ml       Regular            1500               70             2018/05/26           Running       Vending Machines                        D2C            480       480         30240       10        India    60           0.15              1680      1\n",
       "25000  2019/04/16       41          NatureJaipurPoint41      Rajasthan    Jaipur     16.529532  72.431627  80             Cold Bewerages  Fanta         Fanta           PET            1750 ml       Regular            1750               90             2005/01/27           Running       Workplaces and Offices                  D2C            264       264         21384       10        India    77           0.15              1188      1\n",
       "Length: 5757, dtype: int64"
      ]
     },
     "execution_count": 54,
     "metadata": {},
     "output_type": "execute_result"
    }
   ],
   "source": [
    "filtered_data = data[data['Country']== 'India'].value_counts()\n",
    "filtered_data"
   ]
  },
  {
   "cell_type": "code",
   "execution_count": 55,
   "metadata": {},
   "outputs": [
    {
     "data": {
      "text/html": [
       "<div>\n",
       "<style scoped>\n",
       "    .dataframe tbody tr th:only-of-type {\n",
       "        vertical-align: middle;\n",
       "    }\n",
       "\n",
       "    .dataframe tbody tr th {\n",
       "        vertical-align: top;\n",
       "    }\n",
       "\n",
       "    .dataframe thead th {\n",
       "        text-align: right;\n",
       "    }\n",
       "</style>\n",
       "<table border=\"1\" class=\"dataframe\">\n",
       "  <thead>\n",
       "    <tr style=\"text-align: right;\">\n",
       "      <th></th>\n",
       "      <th>SrNo</th>\n",
       "      <th>TransactionDate</th>\n",
       "      <th>RetailerId</th>\n",
       "      <th>RetailerName</th>\n",
       "      <th>State</th>\n",
       "      <th>City</th>\n",
       "      <th>Lat</th>\n",
       "      <th>Long</th>\n",
       "      <th>ProductItemID</th>\n",
       "      <th>Category</th>\n",
       "      <th>...</th>\n",
       "      <th>SalesChannel</th>\n",
       "      <th>ChannelType</th>\n",
       "      <th>OrderQty</th>\n",
       "      <th>OrderQty_N</th>\n",
       "      <th>SalesValue</th>\n",
       "      <th>Discount</th>\n",
       "      <th>Country</th>\n",
       "      <th>CostPerUnit</th>\n",
       "      <th>MarginPercentage</th>\n",
       "      <th>Profit</th>\n",
       "    </tr>\n",
       "  </thead>\n",
       "  <tbody>\n",
       "    <tr>\n",
       "      <th>0</th>\n",
       "      <td>1</td>\n",
       "      <td>2020/08/26</td>\n",
       "      <td>376</td>\n",
       "      <td>Kiwi Corner Creations</td>\n",
       "      <td>Christchurch</td>\n",
       "      <td>Canterbury</td>\n",
       "      <td>-43.5321</td>\n",
       "      <td>172.6362</td>\n",
       "      <td>65</td>\n",
       "      <td>Cold Bewerages</td>\n",
       "      <td>...</td>\n",
       "      <td>E-Commerce</td>\n",
       "      <td>Online</td>\n",
       "      <td>254</td>\n",
       "      <td>254</td>\n",
       "      <td>34290</td>\n",
       "      <td>10</td>\n",
       "      <td>New Zealand</td>\n",
       "      <td>128</td>\n",
       "      <td>0.15</td>\n",
       "      <td>1905</td>\n",
       "    </tr>\n",
       "    <tr>\n",
       "      <th>1</th>\n",
       "      <td>2</td>\n",
       "      <td>2021/06/09</td>\n",
       "      <td>324</td>\n",
       "      <td>Krabi Craftsmarket</td>\n",
       "      <td>Ao Nang</td>\n",
       "      <td>Krabi</td>\n",
       "      <td>8.0376</td>\n",
       "      <td>98.8150</td>\n",
       "      <td>24</td>\n",
       "      <td>Cold Bewerages</td>\n",
       "      <td>...</td>\n",
       "      <td>Vending Machines</td>\n",
       "      <td>D2C</td>\n",
       "      <td>80</td>\n",
       "      <td>80</td>\n",
       "      <td>4560</td>\n",
       "      <td>5</td>\n",
       "      <td>Thailand</td>\n",
       "      <td>48</td>\n",
       "      <td>0.20</td>\n",
       "      <td>720</td>\n",
       "    </tr>\n",
       "  </tbody>\n",
       "</table>\n",
       "<p>2 rows × 29 columns</p>\n",
       "</div>"
      ],
      "text/plain": [
       "   SrNo TransactionDate  RetailerId                 RetailerName  \\\n",
       "0     1      2020/08/26         376    Kiwi Corner Creations       \n",
       "1     2      2021/06/09         324   Krabi Craftsmarket           \n",
       "\n",
       "                  State        City      Lat      Long  ProductItemID  \\\n",
       "0   Christchurch         Canterbury -43.5321  172.6362             65   \n",
       "1   Ao Nang                   Krabi   8.0376   98.8150             24   \n",
       "\n",
       "         Category  ...      SalesChannel ChannelType OrderQty OrderQty_N  \\\n",
       "0  Cold Bewerages  ...        E-Commerce      Online      254        254   \n",
       "1  Cold Bewerages  ...  Vending Machines         D2C       80         80   \n",
       "\n",
       "  SalesValue  Discount        Country CostPerUnit MarginPercentage Profit  \n",
       "0      34290        10   New Zealand          128             0.15   1905  \n",
       "1       4560         5   Thailand              48             0.20    720  \n",
       "\n",
       "[2 rows x 29 columns]"
      ]
     },
     "execution_count": 55,
     "metadata": {},
     "output_type": "execute_result"
    }
   ],
   "source": [
    "data.head(2)"
   ]
  },
  {
   "cell_type": "code",
   "execution_count": 56,
   "metadata": {},
   "outputs": [
    {
     "data": {
      "text/plain": [
       "6.312262"
      ]
     },
     "execution_count": 56,
     "metadata": {},
     "output_type": "execute_result"
    }
   ],
   "source": [
    "market_demand=data['OrderQty'].sum()\n",
    "market_demand/1000000"
   ]
  },
  {
   "cell_type": "markdown",
   "metadata": {},
   "source": [
    "💠 Total units sold:6312262\n",
    "\n",
    "6.3 Million Units sold"
   ]
  },
  {
   "cell_type": "code",
   "execution_count": 57,
   "metadata": {},
   "outputs": [
    {
     "data": {
      "text/plain": [
       "Country\n",
       " Australia       28956153\n",
       " Brunei          28754511\n",
       " Cambodia         5629527\n",
       " Indonesia       27754741\n",
       " Laos             6170424\n",
       " Malaysia        27366670\n",
       " Myanmar          8479343\n",
       " Myanmar         20180367\n",
       " New Zealand     27896882\n",
       " Philippines     28936590\n",
       " Singapore       21798987\n",
       " Thailand        22780626\n",
       " Vietnam         27733122\n",
       "India            83971956\n",
       "Name: SalesValue, dtype: int64"
      ]
     },
     "execution_count": 57,
     "metadata": {},
     "output_type": "execute_result"
    }
   ],
   "source": [
    "data.groupby('Country')['SalesValue'].sum()"
   ]
  },
  {
   "cell_type": "code",
   "execution_count": 58,
   "metadata": {},
   "outputs": [
    {
     "data": {
      "text/plain": [
       "366409899"
      ]
     },
     "execution_count": 58,
     "metadata": {},
     "output_type": "execute_result"
    }
   ],
   "source": [
    "data['SalesValue'].sum()"
   ]
  },
  {
   "cell_type": "markdown",
   "metadata": {},
   "source": [
    "💠 Total sales amount:💲366.4 M"
   ]
  },
  {
   "cell_type": "code",
   "execution_count": 59,
   "metadata": {},
   "outputs": [
    {
     "data": {
      "text/plain": [
       "SalesChannel\n",
       "Airline and Travel Catering                33605616\n",
       "Club and Mass Merchandisers                32900190\n",
       "E-Commerce                                 32876797\n",
       "Event Sponsorship and Marketing Tie-Ins    35460025\n",
       "Food Service and On-Premise                33395924\n",
       "Hotels and Hospitality                     30616183\n",
       "Retail Stores                              33367147\n",
       "Sports Arenas and Entertainment Venues     32348701\n",
       "Vending Machines                           32821492\n",
       "Wholesale Distributors                     33771921\n",
       "Workplaces and Offices                     35245903\n",
       "Name: SalesValue, dtype: int64"
      ]
     },
     "execution_count": 59,
     "metadata": {},
     "output_type": "execute_result"
    }
   ],
   "source": [
    "data.groupby('SalesChannel')['SalesValue'].sum()"
   ]
  },
  {
   "cell_type": "markdown",
   "metadata": {},
   "source": [
    "Event Sponsorship and Marketing Tie-Ins has the highest sales, amounting to 35.46 million.\n",
    "\n",
    "Event Sponsorship and Marketing Tie-Ins and Workplaces and Offices lead with the highest sales figures.\n",
    "\n",
    "Wholesale Distributors, Airline and Travel Catering, and Food Service and On-Premise show strong performance.\n",
    "\n",
    "Hotels and Hospitality has the lowest sales, highlighting a potential area for growth.\n",
    "\n",
    "\n",
    "\n",
    "\n",
    "\n"
   ]
  },
  {
   "cell_type": "code",
   "execution_count": 60,
   "metadata": {},
   "outputs": [
    {
     "data": {
      "text/plain": [
       "Category\n",
       "Cold Bewerages    317440879\n",
       "Hot Bewerages      48969020\n",
       "Name: SalesValue, dtype: int64"
      ]
     },
     "execution_count": 60,
     "metadata": {},
     "output_type": "execute_result"
    }
   ],
   "source": [
    "data.groupby('Category')['SalesValue'].sum()"
   ]
  },
  {
   "cell_type": "markdown",
   "metadata": {},
   "source": [
    "Cold Beverages 💲317.44 million boasts the highest sales across all categories."
   ]
  },
  {
   "cell_type": "code",
   "execution_count": 61,
   "metadata": {},
   "outputs": [
    {
     "data": {
      "text/plain": [
       "ChannelType\n",
       "D2C              167749219\n",
       "General Trade    132883693\n",
       "Modern Trade      32900190\n",
       "Online            32876797\n",
       "Name: SalesValue, dtype: int64"
      ]
     },
     "execution_count": 61,
     "metadata": {},
     "output_type": "execute_result"
    }
   ],
   "source": [
    "data.groupby('ChannelType')[\"SalesValue\"].sum()"
   ]
  },
  {
   "cell_type": "markdown",
   "metadata": {},
   "source": [
    "\n",
    "Observations:\n",
    "\n",
    "- D2C leads with significant sales, surpassing the second-highest channel (General Trade) by approximately 💲34.87 million.\n",
    "- General Trade follows, trailing behind D2C but still maintaining a considerable lead over Modern Trade and Online channels.\n",
    "- Modern Trade and Online channels have almost identical sales figures, with Modern Trade slightly ahead by  💲0.13 million. Both channels, however, have significantly lower sales compared to D2C and General Trade."
   ]
  },
  {
   "cell_type": "code",
   "execution_count": 62,
   "metadata": {},
   "outputs": [
    {
     "data": {
      "text/html": [
       "<div>\n",
       "<style scoped>\n",
       "    .dataframe tbody tr th:only-of-type {\n",
       "        vertical-align: middle;\n",
       "    }\n",
       "\n",
       "    .dataframe tbody tr th {\n",
       "        vertical-align: top;\n",
       "    }\n",
       "\n",
       "    .dataframe thead th {\n",
       "        text-align: right;\n",
       "    }\n",
       "</style>\n",
       "<table border=\"1\" class=\"dataframe\">\n",
       "  <thead>\n",
       "    <tr style=\"text-align: right;\">\n",
       "      <th></th>\n",
       "      <th>State</th>\n",
       "      <th>TotalSalesvalue</th>\n",
       "    </tr>\n",
       "  </thead>\n",
       "  <tbody>\n",
       "    <tr>\n",
       "      <th>0</th>\n",
       "      <td>Delhi</td>\n",
       "      <td>9093237</td>\n",
       "    </tr>\n",
       "    <tr>\n",
       "      <th>1</th>\n",
       "      <td>Gujarat</td>\n",
       "      <td>16906250</td>\n",
       "    </tr>\n",
       "    <tr>\n",
       "      <th>2</th>\n",
       "      <td>Karnataka</td>\n",
       "      <td>6475240</td>\n",
       "    </tr>\n",
       "    <tr>\n",
       "      <th>3</th>\n",
       "      <td>Maharashtra</td>\n",
       "      <td>21842475</td>\n",
       "    </tr>\n",
       "    <tr>\n",
       "      <th>4</th>\n",
       "      <td>Rajasthan</td>\n",
       "      <td>11484490</td>\n",
       "    </tr>\n",
       "    <tr>\n",
       "      <th>5</th>\n",
       "      <td>Tamil Nadu</td>\n",
       "      <td>3336561</td>\n",
       "    </tr>\n",
       "    <tr>\n",
       "      <th>6</th>\n",
       "      <td>Telangana</td>\n",
       "      <td>4130361</td>\n",
       "    </tr>\n",
       "    <tr>\n",
       "      <th>7</th>\n",
       "      <td>West Bengal</td>\n",
       "      <td>10703342</td>\n",
       "    </tr>\n",
       "  </tbody>\n",
       "</table>\n",
       "</div>"
      ],
      "text/plain": [
       "         State  TotalSalesvalue\n",
       "0        Delhi          9093237\n",
       "1      Gujarat         16906250\n",
       "2    Karnataka          6475240\n",
       "3  Maharashtra         21842475\n",
       "4    Rajasthan         11484490\n",
       "5   Tamil Nadu          3336561\n",
       "6    Telangana          4130361\n",
       "7  West Bengal         10703342"
      ]
     },
     "execution_count": 62,
     "metadata": {},
     "output_type": "execute_result"
    }
   ],
   "source": [
    "india_data=data[data['Country']=='India']\n",
    "state_wise_sales=india_data.groupby('State')['SalesValue'].sum().reset_index()\n",
    "state_wise_sales.columns=['State','TotalSalesvalue']\n",
    "state_wise_sales"
   ]
  },
  {
   "cell_type": "markdown",
   "metadata": {},
   "source": [
    "Maharashtra leads with the highest sales value(21.84 M), indicating a strong market presence.\n",
    "\n",
    "Gujarat and Rajasthan also show significant sales figures, highlighting their importance in the market.\n",
    "\n",
    "Tamil Nadu has the lowest sales value(3.34 M), suggesting potential opportunities for growth and market expansion."
   ]
  },
  {
   "cell_type": "code",
   "execution_count": 63,
   "metadata": {},
   "outputs": [
    {
     "data": {
      "text/html": [
       "<div>\n",
       "<style scoped>\n",
       "    .dataframe tbody tr th:only-of-type {\n",
       "        vertical-align: middle;\n",
       "    }\n",
       "\n",
       "    .dataframe tbody tr th {\n",
       "        vertical-align: top;\n",
       "    }\n",
       "\n",
       "    .dataframe thead th {\n",
       "        text-align: right;\n",
       "    }\n",
       "</style>\n",
       "<table border=\"1\" class=\"dataframe\">\n",
       "  <thead>\n",
       "    <tr style=\"text-align: right;\">\n",
       "      <th></th>\n",
       "      <th>SrNo</th>\n",
       "      <th>TransactionDate</th>\n",
       "      <th>RetailerId</th>\n",
       "      <th>RetailerName</th>\n",
       "      <th>State</th>\n",
       "      <th>City</th>\n",
       "      <th>Lat</th>\n",
       "      <th>Long</th>\n",
       "      <th>ProductItemID</th>\n",
       "      <th>Category</th>\n",
       "      <th>...</th>\n",
       "      <th>SalesChannel</th>\n",
       "      <th>ChannelType</th>\n",
       "      <th>OrderQty</th>\n",
       "      <th>OrderQty_N</th>\n",
       "      <th>SalesValue</th>\n",
       "      <th>Discount</th>\n",
       "      <th>Country</th>\n",
       "      <th>CostPerUnit</th>\n",
       "      <th>MarginPercentage</th>\n",
       "      <th>Profit</th>\n",
       "    </tr>\n",
       "  </thead>\n",
       "  <tbody>\n",
       "    <tr>\n",
       "      <th>0</th>\n",
       "      <td>1</td>\n",
       "      <td>2020/08/26</td>\n",
       "      <td>376</td>\n",
       "      <td>Kiwi Corner Creations</td>\n",
       "      <td>Christchurch</td>\n",
       "      <td>Canterbury</td>\n",
       "      <td>-43.5321</td>\n",
       "      <td>172.6362</td>\n",
       "      <td>65</td>\n",
       "      <td>Cold Bewerages</td>\n",
       "      <td>...</td>\n",
       "      <td>E-Commerce</td>\n",
       "      <td>Online</td>\n",
       "      <td>254</td>\n",
       "      <td>254</td>\n",
       "      <td>34290</td>\n",
       "      <td>10</td>\n",
       "      <td>New Zealand</td>\n",
       "      <td>128</td>\n",
       "      <td>0.15</td>\n",
       "      <td>1905</td>\n",
       "    </tr>\n",
       "    <tr>\n",
       "      <th>1</th>\n",
       "      <td>2</td>\n",
       "      <td>2021/06/09</td>\n",
       "      <td>324</td>\n",
       "      <td>Krabi Craftsmarket</td>\n",
       "      <td>Ao Nang</td>\n",
       "      <td>Krabi</td>\n",
       "      <td>8.0376</td>\n",
       "      <td>98.8150</td>\n",
       "      <td>24</td>\n",
       "      <td>Cold Bewerages</td>\n",
       "      <td>...</td>\n",
       "      <td>Vending Machines</td>\n",
       "      <td>D2C</td>\n",
       "      <td>80</td>\n",
       "      <td>80</td>\n",
       "      <td>4560</td>\n",
       "      <td>5</td>\n",
       "      <td>Thailand</td>\n",
       "      <td>48</td>\n",
       "      <td>0.20</td>\n",
       "      <td>720</td>\n",
       "    </tr>\n",
       "  </tbody>\n",
       "</table>\n",
       "<p>2 rows × 29 columns</p>\n",
       "</div>"
      ],
      "text/plain": [
       "   SrNo TransactionDate  RetailerId                 RetailerName  \\\n",
       "0     1      2020/08/26         376    Kiwi Corner Creations       \n",
       "1     2      2021/06/09         324   Krabi Craftsmarket           \n",
       "\n",
       "                  State        City      Lat      Long  ProductItemID  \\\n",
       "0   Christchurch         Canterbury -43.5321  172.6362             65   \n",
       "1   Ao Nang                   Krabi   8.0376   98.8150             24   \n",
       "\n",
       "         Category  ...      SalesChannel ChannelType OrderQty OrderQty_N  \\\n",
       "0  Cold Bewerages  ...        E-Commerce      Online      254        254   \n",
       "1  Cold Bewerages  ...  Vending Machines         D2C       80         80   \n",
       "\n",
       "  SalesValue  Discount        Country CostPerUnit MarginPercentage Profit  \n",
       "0      34290        10   New Zealand          128             0.15   1905  \n",
       "1       4560         5   Thailand              48             0.20    720  \n",
       "\n",
       "[2 rows x 29 columns]"
      ]
     },
     "execution_count": 63,
     "metadata": {},
     "output_type": "execute_result"
    }
   ],
   "source": [
    "data.head(2)"
   ]
  },
  {
   "cell_type": "code",
   "execution_count": 64,
   "metadata": {},
   "outputs": [
    {
     "data": {
      "text/plain": [
       "288"
      ]
     },
     "execution_count": 64,
     "metadata": {},
     "output_type": "execute_result"
    }
   ],
   "source": [
    "data['RetailerName'].nunique()"
   ]
  },
  {
   "cell_type": "code",
   "execution_count": 65,
   "metadata": {},
   "outputs": [
    {
     "data": {
      "text/plain": [
       "Coca_Cola              4050\n",
       "Fanta                  2984\n",
       "Sprite                 2678\n",
       "Limca                  2629\n",
       "Maaza                  2400\n",
       "RimZim                 1951\n",
       "Thums Up               1518\n",
       "Minute Maid            1332\n",
       "Kinley Soda            1084\n",
       "Georgia                1083\n",
       "Schweppes               827\n",
       "Kinley                  807\n",
       "Costa Coffee            790\n",
       "Charged by Thums Up     340\n",
       "Honest Tea              340\n",
       "Smartwater              187\n",
       "Name: Brand, dtype: int64"
      ]
     },
     "execution_count": 65,
     "metadata": {},
     "output_type": "execute_result"
    }
   ],
   "source": [
    "data['Brand'].value_counts()"
   ]
  },
  {
   "cell_type": "markdown",
   "metadata": {},
   "source": [
    "💠 Coca-Cola stands out as the top-selling product with 4,050 units sold, indicating strong consumer preference for this brand"
   ]
  },
  {
   "cell_type": "code",
   "execution_count": 66,
   "metadata": {},
   "outputs": [
    {
     "data": {
      "text/html": [
       "<div>\n",
       "<style scoped>\n",
       "    .dataframe tbody tr th:only-of-type {\n",
       "        vertical-align: middle;\n",
       "    }\n",
       "\n",
       "    .dataframe tbody tr th {\n",
       "        vertical-align: top;\n",
       "    }\n",
       "\n",
       "    .dataframe thead th {\n",
       "        text-align: right;\n",
       "    }\n",
       "</style>\n",
       "<table border=\"1\" class=\"dataframe\">\n",
       "  <thead>\n",
       "    <tr style=\"text-align: right;\">\n",
       "      <th></th>\n",
       "      <th>Brand</th>\n",
       "      <th>SalesValue</th>\n",
       "    </tr>\n",
       "  </thead>\n",
       "  <tbody>\n",
       "    <tr>\n",
       "      <th>0</th>\n",
       "      <td>Charged by Thums Up</td>\n",
       "      <td>907108</td>\n",
       "    </tr>\n",
       "    <tr>\n",
       "      <th>1</th>\n",
       "      <td>Coca_Cola</td>\n",
       "      <td>11785275</td>\n",
       "    </tr>\n",
       "    <tr>\n",
       "      <th>2</th>\n",
       "      <td>Costa Coffee</td>\n",
       "      <td>6128739</td>\n",
       "    </tr>\n",
       "    <tr>\n",
       "      <th>3</th>\n",
       "      <td>Fanta</td>\n",
       "      <td>7877701</td>\n",
       "    </tr>\n",
       "    <tr>\n",
       "      <th>4</th>\n",
       "      <td>Georgia</td>\n",
       "      <td>9230333</td>\n",
       "    </tr>\n",
       "    <tr>\n",
       "      <th>5</th>\n",
       "      <td>Honest Tea</td>\n",
       "      <td>457835</td>\n",
       "    </tr>\n",
       "    <tr>\n",
       "      <th>6</th>\n",
       "      <td>Kinley</td>\n",
       "      <td>5912224</td>\n",
       "    </tr>\n",
       "    <tr>\n",
       "      <th>7</th>\n",
       "      <td>Kinley Soda</td>\n",
       "      <td>3618489</td>\n",
       "    </tr>\n",
       "    <tr>\n",
       "      <th>8</th>\n",
       "      <td>Limca</td>\n",
       "      <td>7251977</td>\n",
       "    </tr>\n",
       "    <tr>\n",
       "      <th>9</th>\n",
       "      <td>Maaza</td>\n",
       "      <td>5851227</td>\n",
       "    </tr>\n",
       "    <tr>\n",
       "      <th>10</th>\n",
       "      <td>Minute Maid</td>\n",
       "      <td>5106215</td>\n",
       "    </tr>\n",
       "    <tr>\n",
       "      <th>11</th>\n",
       "      <td>RimZim</td>\n",
       "      <td>6519607</td>\n",
       "    </tr>\n",
       "    <tr>\n",
       "      <th>12</th>\n",
       "      <td>Schweppes</td>\n",
       "      <td>1249200</td>\n",
       "    </tr>\n",
       "    <tr>\n",
       "      <th>13</th>\n",
       "      <td>Smartwater</td>\n",
       "      <td>508601</td>\n",
       "    </tr>\n",
       "    <tr>\n",
       "      <th>14</th>\n",
       "      <td>Sprite</td>\n",
       "      <td>7030389</td>\n",
       "    </tr>\n",
       "    <tr>\n",
       "      <th>15</th>\n",
       "      <td>Thums Up</td>\n",
       "      <td>4537036</td>\n",
       "    </tr>\n",
       "  </tbody>\n",
       "</table>\n",
       "</div>"
      ],
      "text/plain": [
       "                  Brand  SalesValue\n",
       "0   Charged by Thums Up      907108\n",
       "1             Coca_Cola    11785275\n",
       "2          Costa Coffee     6128739\n",
       "3                 Fanta     7877701\n",
       "4               Georgia     9230333\n",
       "5            Honest Tea      457835\n",
       "6                Kinley     5912224\n",
       "7           Kinley Soda     3618489\n",
       "8                 Limca     7251977\n",
       "9                 Maaza     5851227\n",
       "10          Minute Maid     5106215\n",
       "11               RimZim     6519607\n",
       "12            Schweppes     1249200\n",
       "13           Smartwater      508601\n",
       "14               Sprite     7030389\n",
       "15             Thums Up     4537036"
      ]
     },
     "execution_count": 66,
     "metadata": {},
     "output_type": "execute_result"
    }
   ],
   "source": [
    "popular_brand_by_country=india_data.groupby('Brand')['SalesValue'].sum().reset_index()\n",
    "\n",
    "popular_brand_by_country"
   ]
  },
  {
   "cell_type": "markdown",
   "metadata": {},
   "source": [
    "In India Coca-Cola leads with 11,785,275 units sold, indicating strong consumer demand and market dominance.\n"
   ]
  },
  {
   "cell_type": "markdown",
   "metadata": {},
   "source": [
    "#Top 10 countries by sales "
   ]
  },
  {
   "cell_type": "code",
   "execution_count": 67,
   "metadata": {},
   "outputs": [
    {
     "data": {
      "text/html": [
       "<div>\n",
       "<style scoped>\n",
       "    .dataframe tbody tr th:only-of-type {\n",
       "        vertical-align: middle;\n",
       "    }\n",
       "\n",
       "    .dataframe tbody tr th {\n",
       "        vertical-align: top;\n",
       "    }\n",
       "\n",
       "    .dataframe thead th {\n",
       "        text-align: right;\n",
       "    }\n",
       "</style>\n",
       "<table border=\"1\" class=\"dataframe\">\n",
       "  <thead>\n",
       "    <tr style=\"text-align: right;\">\n",
       "      <th></th>\n",
       "      <th>Country</th>\n",
       "      <th>SalesValue</th>\n",
       "    </tr>\n",
       "  </thead>\n",
       "  <tbody>\n",
       "    <tr>\n",
       "      <th>13</th>\n",
       "      <td>India</td>\n",
       "      <td>83971956</td>\n",
       "    </tr>\n",
       "    <tr>\n",
       "      <th>0</th>\n",
       "      <td>Australia</td>\n",
       "      <td>28956153</td>\n",
       "    </tr>\n",
       "    <tr>\n",
       "      <th>9</th>\n",
       "      <td>Philippines</td>\n",
       "      <td>28936590</td>\n",
       "    </tr>\n",
       "    <tr>\n",
       "      <th>1</th>\n",
       "      <td>Brunei</td>\n",
       "      <td>28754511</td>\n",
       "    </tr>\n",
       "    <tr>\n",
       "      <th>8</th>\n",
       "      <td>New Zealand</td>\n",
       "      <td>27896882</td>\n",
       "    </tr>\n",
       "    <tr>\n",
       "      <th>3</th>\n",
       "      <td>Indonesia</td>\n",
       "      <td>27754741</td>\n",
       "    </tr>\n",
       "    <tr>\n",
       "      <th>12</th>\n",
       "      <td>Vietnam</td>\n",
       "      <td>27733122</td>\n",
       "    </tr>\n",
       "    <tr>\n",
       "      <th>5</th>\n",
       "      <td>Malaysia</td>\n",
       "      <td>27366670</td>\n",
       "    </tr>\n",
       "    <tr>\n",
       "      <th>11</th>\n",
       "      <td>Thailand</td>\n",
       "      <td>22780626</td>\n",
       "    </tr>\n",
       "    <tr>\n",
       "      <th>10</th>\n",
       "      <td>Singapore</td>\n",
       "      <td>21798987</td>\n",
       "    </tr>\n",
       "  </tbody>\n",
       "</table>\n",
       "</div>"
      ],
      "text/plain": [
       "          Country  SalesValue\n",
       "13          India    83971956\n",
       "0    Australia       28956153\n",
       "9    Philippines     28936590\n",
       "1    Brunei          28754511\n",
       "8    New Zealand     27896882\n",
       "3    Indonesia       27754741\n",
       "12   Vietnam         27733122\n",
       "5    Malaysia        27366670\n",
       "11   Thailand        22780626\n",
       "10   Singapore       21798987"
      ]
     },
     "execution_count": 67,
     "metadata": {},
     "output_type": "execute_result"
    }
   ],
   "source": [
    "country_sales=data.groupby('Country')['SalesValue'].sum().reset_index()\n",
    "country_sales=country_sales.sort_values(by='SalesValue',ascending=False)\n",
    "top_10_countries=country_sales.head(10)\n",
    "top_10_countries"
   ]
  },
  {
   "cell_type": "markdown",
   "metadata": {},
   "source": [
    "India: Sales of $ 83.97 million , contributing approximately 50.3% to the total sales.\n",
    "\n"
   ]
  },
  {
   "cell_type": "code",
   "execution_count": 68,
   "metadata": {},
   "outputs": [
    {
     "data": {
      "text/html": [
       "<div>\n",
       "<style scoped>\n",
       "    .dataframe tbody tr th:only-of-type {\n",
       "        vertical-align: middle;\n",
       "    }\n",
       "\n",
       "    .dataframe tbody tr th {\n",
       "        vertical-align: top;\n",
       "    }\n",
       "\n",
       "    .dataframe thead th {\n",
       "        text-align: right;\n",
       "    }\n",
       "</style>\n",
       "<table border=\"1\" class=\"dataframe\">\n",
       "  <thead>\n",
       "    <tr style=\"text-align: right;\">\n",
       "      <th></th>\n",
       "      <th>Brand</th>\n",
       "      <th>SalesValue</th>\n",
       "    </tr>\n",
       "  </thead>\n",
       "  <tbody>\n",
       "    <tr>\n",
       "      <th>1</th>\n",
       "      <td>Coca_Cola</td>\n",
       "      <td>48527482</td>\n",
       "    </tr>\n",
       "    <tr>\n",
       "      <th>4</th>\n",
       "      <td>Georgia</td>\n",
       "      <td>38211962</td>\n",
       "    </tr>\n",
       "    <tr>\n",
       "      <th>3</th>\n",
       "      <td>Fanta</td>\n",
       "      <td>37241956</td>\n",
       "    </tr>\n",
       "    <tr>\n",
       "      <th>8</th>\n",
       "      <td>Limca</td>\n",
       "      <td>33822917</td>\n",
       "    </tr>\n",
       "    <tr>\n",
       "      <th>14</th>\n",
       "      <td>Sprite</td>\n",
       "      <td>32497449</td>\n",
       "    </tr>\n",
       "    <tr>\n",
       "      <th>11</th>\n",
       "      <td>RimZim</td>\n",
       "      <td>27559545</td>\n",
       "    </tr>\n",
       "    <tr>\n",
       "      <th>2</th>\n",
       "      <td>Costa Coffee</td>\n",
       "      <td>27098336</td>\n",
       "    </tr>\n",
       "    <tr>\n",
       "      <th>6</th>\n",
       "      <td>Kinley</td>\n",
       "      <td>25212764</td>\n",
       "    </tr>\n",
       "    <tr>\n",
       "      <th>9</th>\n",
       "      <td>Maaza</td>\n",
       "      <td>24554173</td>\n",
       "    </tr>\n",
       "    <tr>\n",
       "      <th>10</th>\n",
       "      <td>Minute Maid</td>\n",
       "      <td>22902910</td>\n",
       "    </tr>\n",
       "  </tbody>\n",
       "</table>\n",
       "</div>"
      ],
      "text/plain": [
       "           Brand  SalesValue\n",
       "1      Coca_Cola    48527482\n",
       "4        Georgia    38211962\n",
       "3          Fanta    37241956\n",
       "8          Limca    33822917\n",
       "14        Sprite    32497449\n",
       "11        RimZim    27559545\n",
       "2   Costa Coffee    27098336\n",
       "6         Kinley    25212764\n",
       "9          Maaza    24554173\n",
       "10   Minute Maid    22902910"
      ]
     },
     "execution_count": 68,
     "metadata": {},
     "output_type": "execute_result"
    }
   ],
   "source": [
    "brand_sales=data.groupby('Brand')['SalesValue'].sum().reset_index()\n",
    "brand_sales=brand_sales.sort_values(by='SalesValue',ascending=False)\n",
    "top_10_brands=brand_sales.head(10)\n",
    "top_10_brands"
   ]
  },
  {
   "cell_type": "markdown",
   "metadata": {},
   "source": [
    "Top Performers:\n",
    "\n",
    "Coca-Cola: Leads with sales of 48.53 million, capturing 23.3% of total brand sales.\n",
    "\n",
    "Georgia: Follows with 38.21 million, representing 18.4% of total sales.\n",
    "\n",
    "Fanta: Holds 37.24 million in sales, accounting for 18.0% of total brand sales."
   ]
  },
  {
   "cell_type": "code",
   "execution_count": 69,
   "metadata": {},
   "outputs": [
    {
     "data": {
      "text/html": [
       "<div>\n",
       "<style scoped>\n",
       "    .dataframe tbody tr th:only-of-type {\n",
       "        vertical-align: middle;\n",
       "    }\n",
       "\n",
       "    .dataframe tbody tr th {\n",
       "        vertical-align: top;\n",
       "    }\n",
       "\n",
       "    .dataframe thead th {\n",
       "        text-align: right;\n",
       "    }\n",
       "</style>\n",
       "<table border=\"1\" class=\"dataframe\">\n",
       "  <thead>\n",
       "    <tr style=\"text-align: right;\">\n",
       "      <th></th>\n",
       "      <th>SrNo</th>\n",
       "      <th>TransactionDate</th>\n",
       "      <th>RetailerId</th>\n",
       "      <th>RetailerName</th>\n",
       "      <th>State</th>\n",
       "      <th>City</th>\n",
       "      <th>Lat</th>\n",
       "      <th>Long</th>\n",
       "      <th>ProductItemID</th>\n",
       "      <th>Category</th>\n",
       "      <th>...</th>\n",
       "      <th>SalesChannel</th>\n",
       "      <th>ChannelType</th>\n",
       "      <th>OrderQty</th>\n",
       "      <th>OrderQty_N</th>\n",
       "      <th>SalesValue</th>\n",
       "      <th>Discount</th>\n",
       "      <th>Country</th>\n",
       "      <th>CostPerUnit</th>\n",
       "      <th>MarginPercentage</th>\n",
       "      <th>Profit</th>\n",
       "    </tr>\n",
       "  </thead>\n",
       "  <tbody>\n",
       "    <tr>\n",
       "      <th>0</th>\n",
       "      <td>1</td>\n",
       "      <td>2020/08/26</td>\n",
       "      <td>376</td>\n",
       "      <td>Kiwi Corner Creations</td>\n",
       "      <td>Christchurch</td>\n",
       "      <td>Canterbury</td>\n",
       "      <td>-43.5321</td>\n",
       "      <td>172.6362</td>\n",
       "      <td>65</td>\n",
       "      <td>Cold Bewerages</td>\n",
       "      <td>...</td>\n",
       "      <td>E-Commerce</td>\n",
       "      <td>Online</td>\n",
       "      <td>254</td>\n",
       "      <td>254</td>\n",
       "      <td>34290</td>\n",
       "      <td>10</td>\n",
       "      <td>New Zealand</td>\n",
       "      <td>128</td>\n",
       "      <td>0.15</td>\n",
       "      <td>1905</td>\n",
       "    </tr>\n",
       "    <tr>\n",
       "      <th>1</th>\n",
       "      <td>2</td>\n",
       "      <td>2021/06/09</td>\n",
       "      <td>324</td>\n",
       "      <td>Krabi Craftsmarket</td>\n",
       "      <td>Ao Nang</td>\n",
       "      <td>Krabi</td>\n",
       "      <td>8.0376</td>\n",
       "      <td>98.8150</td>\n",
       "      <td>24</td>\n",
       "      <td>Cold Bewerages</td>\n",
       "      <td>...</td>\n",
       "      <td>Vending Machines</td>\n",
       "      <td>D2C</td>\n",
       "      <td>80</td>\n",
       "      <td>80</td>\n",
       "      <td>4560</td>\n",
       "      <td>5</td>\n",
       "      <td>Thailand</td>\n",
       "      <td>48</td>\n",
       "      <td>0.20</td>\n",
       "      <td>720</td>\n",
       "    </tr>\n",
       "  </tbody>\n",
       "</table>\n",
       "<p>2 rows × 29 columns</p>\n",
       "</div>"
      ],
      "text/plain": [
       "   SrNo TransactionDate  RetailerId                 RetailerName  \\\n",
       "0     1      2020/08/26         376    Kiwi Corner Creations       \n",
       "1     2      2021/06/09         324   Krabi Craftsmarket           \n",
       "\n",
       "                  State        City      Lat      Long  ProductItemID  \\\n",
       "0   Christchurch         Canterbury -43.5321  172.6362             65   \n",
       "1   Ao Nang                   Krabi   8.0376   98.8150             24   \n",
       "\n",
       "         Category  ...      SalesChannel ChannelType OrderQty OrderQty_N  \\\n",
       "0  Cold Bewerages  ...        E-Commerce      Online      254        254   \n",
       "1  Cold Bewerages  ...  Vending Machines         D2C       80         80   \n",
       "\n",
       "  SalesValue  Discount        Country CostPerUnit MarginPercentage Profit  \n",
       "0      34290        10   New Zealand          128             0.15   1905  \n",
       "1       4560         5   Thailand              48             0.20    720  \n",
       "\n",
       "[2 rows x 29 columns]"
      ]
     },
     "execution_count": 69,
     "metadata": {},
     "output_type": "execute_result"
    }
   ],
   "source": [
    "data.head(2)"
   ]
  },
  {
   "cell_type": "code",
   "execution_count": 70,
   "metadata": {},
   "outputs": [
    {
     "name": "stdout",
     "output_type": "stream",
     "text": [
      "Correlation between Cost per unit and Total Sales0.706951571391643\n"
     ]
    },
    {
     "data": {
      "image/png": "[encoded data removed]",
      "text/plain": [
       "<Figure size 800x600 with 1 Axes>"
      ]
     },
     "metadata": {},
     "output_type": "display_data"
    }
   ],
   "source": [
    "correlation=data['CostPerUnit'].corr(data['SalesValue'])\n",
    "print(f\"Correlation between Cost per unit and Total Sales{correlation}\")\n",
    "plt.figure(figsize=(8,6))\n",
    "plt.scatter(data['CostPerUnit'],data['SalesValue'],alpha=0.5)\n",
    "plt.title('Scatter Plot: Cost Per Unit vs Total Sales')\n",
    "plt.xlabel('Cost Per Unit')\n",
    "plt.ylabel('Total Sales')\n",
    "plt.grid(True)\n",
    "plt.show()"
   ]
  },
  {
   "cell_type": "code",
   "execution_count": 71,
   "metadata": {},
   "outputs": [
    {
     "data": {
      "text/plain": [
       "PET           14535\n",
       "Cans           4972\n",
       "RGB            2481\n",
       "Custom         1873\n",
       "TETRAPACKS     1139\n",
       "Name: PackagingType, dtype: int64"
      ]
     },
     "execution_count": 71,
     "metadata": {},
     "output_type": "execute_result"
    }
   ],
   "source": [
    "data['PackagingType'].value_counts()"
   ]
  },
  {
   "cell_type": "markdown",
   "metadata": {},
   "source": [
    "Total profit by package Type in India"
   ]
  },
  {
   "cell_type": "code",
   "execution_count": 72,
   "metadata": {},
   "outputs": [
    {
     "data": {
      "text/html": [
       "<div>\n",
       "<style scoped>\n",
       "    .dataframe tbody tr th:only-of-type {\n",
       "        vertical-align: middle;\n",
       "    }\n",
       "\n",
       "    .dataframe tbody tr th {\n",
       "        vertical-align: top;\n",
       "    }\n",
       "\n",
       "    .dataframe thead th {\n",
       "        text-align: right;\n",
       "    }\n",
       "</style>\n",
       "<table border=\"1\" class=\"dataframe\">\n",
       "  <thead>\n",
       "    <tr style=\"text-align: right;\">\n",
       "      <th></th>\n",
       "      <th>PackagingType</th>\n",
       "      <th>Profit</th>\n",
       "    </tr>\n",
       "  </thead>\n",
       "  <tbody>\n",
       "    <tr>\n",
       "      <th>0</th>\n",
       "      <td>Cans</td>\n",
       "      <td>861806</td>\n",
       "    </tr>\n",
       "    <tr>\n",
       "      <th>1</th>\n",
       "      <td>Custom</td>\n",
       "      <td>929345</td>\n",
       "    </tr>\n",
       "    <tr>\n",
       "      <th>2</th>\n",
       "      <td>PET</td>\n",
       "      <td>3445789</td>\n",
       "    </tr>\n",
       "    <tr>\n",
       "      <th>3</th>\n",
       "      <td>RGB</td>\n",
       "      <td>286411</td>\n",
       "    </tr>\n",
       "    <tr>\n",
       "      <th>4</th>\n",
       "      <td>TETRAPACKS</td>\n",
       "      <td>258363</td>\n",
       "    </tr>\n",
       "  </tbody>\n",
       "</table>\n",
       "</div>"
      ],
      "text/plain": [
       "  PackagingType   Profit\n",
       "0          Cans   861806\n",
       "1        Custom   929345\n",
       "2           PET  3445789\n",
       "3           RGB   286411\n",
       "4    TETRAPACKS   258363"
      ]
     },
     "execution_count": 72,
     "metadata": {},
     "output_type": "execute_result"
    }
   ],
   "source": [
    "india_data.groupby('PackagingType')['Profit'].sum().reset_index()\n"
   ]
  },
  {
   "cell_type": "code",
   "execution_count": 73,
   "metadata": {},
   "outputs": [
    {
     "data": {
      "text/html": [
       "<div>\n",
       "<style scoped>\n",
       "    .dataframe tbody tr th:only-of-type {\n",
       "        vertical-align: middle;\n",
       "    }\n",
       "\n",
       "    .dataframe tbody tr th {\n",
       "        vertical-align: top;\n",
       "    }\n",
       "\n",
       "    .dataframe thead th {\n",
       "        text-align: right;\n",
       "    }\n",
       "</style>\n",
       "<table border=\"1\" class=\"dataframe\">\n",
       "  <thead>\n",
       "    <tr style=\"text-align: right;\">\n",
       "      <th></th>\n",
       "      <th>SrNo</th>\n",
       "      <th>TransactionDate</th>\n",
       "      <th>RetailerId</th>\n",
       "      <th>RetailerName</th>\n",
       "      <th>State</th>\n",
       "      <th>City</th>\n",
       "      <th>Lat</th>\n",
       "      <th>Long</th>\n",
       "      <th>ProductItemID</th>\n",
       "      <th>Category</th>\n",
       "      <th>...</th>\n",
       "      <th>SalesChannel</th>\n",
       "      <th>ChannelType</th>\n",
       "      <th>OrderQty</th>\n",
       "      <th>OrderQty_N</th>\n",
       "      <th>SalesValue</th>\n",
       "      <th>Discount</th>\n",
       "      <th>Country</th>\n",
       "      <th>CostPerUnit</th>\n",
       "      <th>MarginPercentage</th>\n",
       "      <th>Profit</th>\n",
       "    </tr>\n",
       "  </thead>\n",
       "  <tbody>\n",
       "    <tr>\n",
       "      <th>0</th>\n",
       "      <td>1</td>\n",
       "      <td>2020/08/26</td>\n",
       "      <td>376</td>\n",
       "      <td>Kiwi Corner Creations</td>\n",
       "      <td>Christchurch</td>\n",
       "      <td>Canterbury</td>\n",
       "      <td>-43.5321</td>\n",
       "      <td>172.6362</td>\n",
       "      <td>65</td>\n",
       "      <td>Cold Bewerages</td>\n",
       "      <td>...</td>\n",
       "      <td>E-Commerce</td>\n",
       "      <td>Online</td>\n",
       "      <td>254</td>\n",
       "      <td>254</td>\n",
       "      <td>34290</td>\n",
       "      <td>10</td>\n",
       "      <td>New Zealand</td>\n",
       "      <td>128</td>\n",
       "      <td>0.15</td>\n",
       "      <td>1905</td>\n",
       "    </tr>\n",
       "  </tbody>\n",
       "</table>\n",
       "<p>1 rows × 29 columns</p>\n",
       "</div>"
      ],
      "text/plain": [
       "   SrNo TransactionDate  RetailerId                RetailerName  \\\n",
       "0     1      2020/08/26         376   Kiwi Corner Creations       \n",
       "\n",
       "                  State        City      Lat      Long  ProductItemID  \\\n",
       "0   Christchurch         Canterbury -43.5321  172.6362             65   \n",
       "\n",
       "         Category  ... SalesChannel ChannelType OrderQty OrderQty_N  \\\n",
       "0  Cold Bewerages  ...   E-Commerce      Online      254        254   \n",
       "\n",
       "  SalesValue  Discount        Country CostPerUnit MarginPercentage Profit  \n",
       "0      34290        10   New Zealand          128             0.15   1905  \n",
       "\n",
       "[1 rows x 29 columns]"
      ]
     },
     "execution_count": 73,
     "metadata": {},
     "output_type": "execute_result"
    }
   ],
   "source": [
    "data.head(1)"
   ]
  },
  {
   "cell_type": "code",
   "execution_count": 74,
   "metadata": {},
   "outputs": [
    {
     "data": {
      "text/html": [
       "<div>\n",
       "<style scoped>\n",
       "    .dataframe tbody tr th:only-of-type {\n",
       "        vertical-align: middle;\n",
       "    }\n",
       "\n",
       "    .dataframe tbody tr th {\n",
       "        vertical-align: top;\n",
       "    }\n",
       "\n",
       "    .dataframe thead th {\n",
       "        text-align: right;\n",
       "    }\n",
       "</style>\n",
       "<table border=\"1\" class=\"dataframe\">\n",
       "  <thead>\n",
       "    <tr style=\"text-align: right;\">\n",
       "      <th></th>\n",
       "      <th>OrderQty</th>\n",
       "      <th>SalesChannel</th>\n",
       "      <th>Profit</th>\n",
       "    </tr>\n",
       "  </thead>\n",
       "  <tbody>\n",
       "    <tr>\n",
       "      <th>2622</th>\n",
       "      <td>478</td>\n",
       "      <td>Hotels and Hospitality</td>\n",
       "      <td>42783</td>\n",
       "    </tr>\n",
       "    <tr>\n",
       "      <th>2631</th>\n",
       "      <td>480</td>\n",
       "      <td>Event Sponsorship and Marketing Tie-Ins</td>\n",
       "      <td>36480</td>\n",
       "    </tr>\n",
       "    <tr>\n",
       "      <th>1807</th>\n",
       "      <td>330</td>\n",
       "      <td>Event Sponsorship and Marketing Tie-Ins</td>\n",
       "      <td>35643</td>\n",
       "    </tr>\n",
       "    <tr>\n",
       "      <th>2296</th>\n",
       "      <td>418</td>\n",
       "      <td>Vending Machines</td>\n",
       "      <td>35531</td>\n",
       "    </tr>\n",
       "    <tr>\n",
       "      <th>2557</th>\n",
       "      <td>466</td>\n",
       "      <td>Retail Stores</td>\n",
       "      <td>34603</td>\n",
       "    </tr>\n",
       "    <tr>\n",
       "      <th>2385</th>\n",
       "      <td>434</td>\n",
       "      <td>Workplaces and Offices</td>\n",
       "      <td>34398</td>\n",
       "    </tr>\n",
       "    <tr>\n",
       "      <th>2526</th>\n",
       "      <td>460</td>\n",
       "      <td>Vending Machines</td>\n",
       "      <td>33695</td>\n",
       "    </tr>\n",
       "    <tr>\n",
       "      <th>2309</th>\n",
       "      <td>420</td>\n",
       "      <td>Workplaces and Offices</td>\n",
       "      <td>32655</td>\n",
       "    </tr>\n",
       "    <tr>\n",
       "      <th>2197</th>\n",
       "      <td>400</td>\n",
       "      <td>Vending Machines</td>\n",
       "      <td>32200</td>\n",
       "    </tr>\n",
       "    <tr>\n",
       "      <th>2734</th>\n",
       "      <td>498</td>\n",
       "      <td>Sports Arenas and Entertainment Venues</td>\n",
       "      <td>31749</td>\n",
       "    </tr>\n",
       "  </tbody>\n",
       "</table>\n",
       "</div>"
      ],
      "text/plain": [
       "      OrderQty                             SalesChannel  Profit\n",
       "2622       478                   Hotels and Hospitality   42783\n",
       "2631       480  Event Sponsorship and Marketing Tie-Ins   36480\n",
       "1807       330  Event Sponsorship and Marketing Tie-Ins   35643\n",
       "2296       418                         Vending Machines   35531\n",
       "2557       466                            Retail Stores   34603\n",
       "2385       434                   Workplaces and Offices   34398\n",
       "2526       460                         Vending Machines   33695\n",
       "2309       420                   Workplaces and Offices   32655\n",
       "2197       400                         Vending Machines   32200\n",
       "2734       498   Sports Arenas and Entertainment Venues   31749"
      ]
     },
     "execution_count": 74,
     "metadata": {},
     "output_type": "execute_result"
    }
   ],
   "source": [
    "# Group by 'OrderQty' and 'SalesChannel', then sum 'Profit'\n",
    "sales_channel = data.groupby(['OrderQty', 'SalesChannel'])['Profit'].sum().reset_index()\n",
    "\n",
    "top_10=sales_channel.sort_values(by='Profit',ascending=False)\n",
    "\n",
    "top_10.head(10)\n"
   ]
  },
  {
   "cell_type": "code",
   "execution_count": 75,
   "metadata": {},
   "outputs": [
    {
     "data": {
      "text/plain": [
       "Event Sponsorship and Marketing Tie-Ins    2374\n",
       "Workplaces and Offices                     2368\n",
       "E-Commerce                                 2313\n",
       "Wholesale Distributors                     2309\n",
       "Airline and Travel Catering                2295\n",
       "Retail Stores                              2289\n",
       "Food Service and On-Premise                2251\n",
       "Vending Machines                           2236\n",
       "Sports Arenas and Entertainment Venues     2218\n",
       "Hotels and Hospitality                     2181\n",
       "Club and Mass Merchandisers                2166\n",
       "Name: SalesChannel, dtype: int64"
      ]
     },
     "execution_count": 75,
     "metadata": {},
     "output_type": "execute_result"
    }
   ],
   "source": [
    "data['SalesChannel'].value_counts()"
   ]
  },
  {
   "cell_type": "code",
   "execution_count": 76,
   "metadata": {},
   "outputs": [
    {
     "name": "stdout",
     "output_type": "stream",
     "text": [
      "                               SalesChannel  OrderQty   Profit\n",
      "0               Airline and Travel Catering    580314  2289381\n",
      "1               Club and Mass Merchandisers    544082  2236612\n",
      "2                                E-Commerce    569238  2302810\n",
      "3   Event Sponsorship and Marketing Tie-Ins    601768  2452782\n",
      "4               Food Service and On-Premise    564812  2263988\n",
      "5                    Hotels and Hospitality    544300  2104772\n",
      "6                             Retail Stores    581298  2299893\n",
      "7    Sports Arenas and Entertainment Venues    561014  2227478\n",
      "8                          Vending Machines    567476  2276082\n",
      "9                    Wholesale Distributors    585804  2330993\n",
      "10                   Workplaces and Offices    612156  2446556\n"
     ]
    }
   ],
   "source": [
    "\n",
    "\n",
    "# Assuming 'data' is your DataFrame\n",
    "result = data.groupby('SalesChannel').agg({\n",
    "    'OrderQty': 'sum',\n",
    "    'Profit': 'sum'\n",
    "}).reset_index()\n",
    "\n",
    "print(result)\n"
   ]
  },
  {
   "cell_type": "markdown",
   "metadata": {},
   "source": [
    "### Insights:\n",
    "\n",
    "- Total Order Quantity: 6,809,262 units\n",
    "- Total Profit:** $24,524,347\n",
    "\n",
    "- Top Performers:\n",
    "  - **Workplaces and Offices:** \n",
    "    - Order Quantity: 612,156 units (9%)\n",
    "    - Profit: $2,446,556 (10%)\n",
    "  - **Event Sponsorship and Marketing Tie-Ins:** \n",
    "    - Profit: $2,452,782 (10%)\n",
    "\n",
    "- Significant Contributors:**\n",
    "  - Retail Stores:** \n",
    "    - Order Quantity: 581,298 units (8.5%)\n",
    "    - Profit: $2,299,893 (9.4%)\n",
    "  - E-Commerce:\n",
    "    - Order Quantity: 569,238 units (8.4%)\n",
    "    - Profit: $2,302,810 (9.4%)\n",
    "\n",
    "- Moderate Performers:\n",
    "  - Food Service and On-Premise:**\n",
    "    - Order Quantity: 564,812 units (8.3%)\n",
    "    - Profit: $2,263,988 (9.2%)\n",
    "\n",
    "- Areas for Improvement:\n",
    "  - **Hotels and Hospitality:** \n",
    "    - Order Quantity: 544,300 units (8%)\n",
    "    - Profit: $2,104,772 (8.6%)\n",
    "\n",
    "### Summary:\n",
    "Focus on top performers like \"Workplaces and Offices\" and \"Event Sponsorship and Marketing Tie-Ins\" for higher returns. Moderate channels show potential for targeted growth strategies."
   ]
  },
  {
   "cell_type": "markdown",
   "metadata": {},
   "source": [
    "discount impact"
   ]
  },
  {
   "cell_type": "code",
   "execution_count": 77,
   "metadata": {},
   "outputs": [
    {
     "name": "stdout",
     "output_type": "stream",
     "text": [
      "Average Discount:8.16368\n",
      "Correlation between Discount and Sales Value:0.44650690241986013\n",
      "Correlation between Discount and Profit:0.3384192472392123\n"
     ]
    }
   ],
   "source": [
    "average_discount=data['Discount'].mean()\n",
    "correlation_discount_sales=data['Discount'].corr(data['SalesValue'])\n",
    "correlation_discount_profit=data['Discount'].corr(data['Profit'])\n",
    "print(f\"Average Discount:{average_discount}\")\n",
    "print(f\"Correlation between Discount and Sales Value:{correlation_discount_sales}\")\n",
    "print(f\"Correlation between Discount and Profit:{correlation_discount_profit}\")\n"
   ]
  },
  {
   "cell_type": "markdown",
   "metadata": {},
   "source": [
    "Discounts are effective: The moderate positive correlations with both sales value and profit suggest that discounting is a useful strategy for increasing overall sales and maintaining profitability.\n",
    "\n",
    "\n",
    "Strategic Discounting: Given the stronger correlation with sales value, consider using discounts as a tool for driving higher sales volumes, which can subsequently lead to increased profits."
   ]
  },
  {
   "cell_type": "markdown",
   "metadata": {},
   "source": [
    "Market Penetration rate"
   ]
  },
  {
   "cell_type": "code",
   "execution_count": 78,
   "metadata": {},
   "outputs": [
    {
     "name": "stdout",
     "output_type": "stream",
     "text": [
      "Percentage of Order Qunatity of new Product:0.00%\n"
     ]
    }
   ],
   "source": [
    "new_product=data[data['IsNewProduct']==True]\n",
    "sum_orderQty_for_new_product=new_product['OrderQty'].sum()\n",
    "sum_OrderQty_all_product=data['OrderQty'].sum()\n",
    "percentage_new_products=(sum_orderQty_for_new_product/sum_OrderQty_all_product)*100\n",
    "print(f\"Percentage of Order Qunatity of new Product:{percentage_new_products:.2f}%\")"
   ]
  },
  {
   "cell_type": "markdown",
   "metadata": {},
   "source": [
    "The 0.00% indicates that new products are not significantly contributing to the total order quantity."
   ]
  },
  {
   "cell_type": "markdown",
   "metadata": {},
   "source": [
    "Product mix diversity"
   ]
  },
  {
   "cell_type": "code",
   "execution_count": 79,
   "metadata": {},
   "outputs": [
    {
     "name": "stdout",
     "output_type": "stream",
     "text": [
      "Count of distinct productItemId:153\n",
      "Order Quantity per ProductItemID:     ProductItemID  OrderQty\n",
      "0                1     41278\n",
      "1                2     46906\n",
      "2                3     42374\n",
      "3                4     41952\n",
      "4                5     43448\n",
      "..             ...       ...\n",
      "148            149     36548\n",
      "149            150     27336\n",
      "150            151     43724\n",
      "151            152     40778\n",
      "152            153     45410\n",
      "\n",
      "[153 rows x 2 columns]\n"
     ]
    }
   ],
   "source": [
    "distinct_product_count=data['ProductItemID'].nunique()\n",
    "sum_orderQty_per_product=data.groupby('ProductItemID')['OrderQty'].sum().reset_index()\n",
    "print(f\"Count of distinct productItemId:{distinct_product_count}\")\n",
    "print(f\"Order Quantity per ProductItemID:{sum_orderQty_per_product}\")\n"
   ]
  },
  {
   "cell_type": "code",
   "execution_count": 80,
   "metadata": {},
   "outputs": [
    {
     "data": {
      "text/html": [
       "<div>\n",
       "<style scoped>\n",
       "    .dataframe tbody tr th:only-of-type {\n",
       "        vertical-align: middle;\n",
       "    }\n",
       "\n",
       "    .dataframe tbody tr th {\n",
       "        vertical-align: top;\n",
       "    }\n",
       "\n",
       "    .dataframe thead th {\n",
       "        text-align: right;\n",
       "    }\n",
       "</style>\n",
       "<table border=\"1\" class=\"dataframe\">\n",
       "  <thead>\n",
       "    <tr style=\"text-align: right;\">\n",
       "      <th></th>\n",
       "      <th>SrNo</th>\n",
       "      <th>TransactionDate</th>\n",
       "      <th>RetailerId</th>\n",
       "      <th>RetailerName</th>\n",
       "      <th>State</th>\n",
       "      <th>City</th>\n",
       "      <th>Lat</th>\n",
       "      <th>Long</th>\n",
       "      <th>ProductItemID</th>\n",
       "      <th>Category</th>\n",
       "      <th>...</th>\n",
       "      <th>SalesChannel</th>\n",
       "      <th>ChannelType</th>\n",
       "      <th>OrderQty</th>\n",
       "      <th>OrderQty_N</th>\n",
       "      <th>SalesValue</th>\n",
       "      <th>Discount</th>\n",
       "      <th>Country</th>\n",
       "      <th>CostPerUnit</th>\n",
       "      <th>MarginPercentage</th>\n",
       "      <th>Profit</th>\n",
       "    </tr>\n",
       "  </thead>\n",
       "  <tbody>\n",
       "  </tbody>\n",
       "</table>\n",
       "<p>0 rows × 29 columns</p>\n",
       "</div>"
      ],
      "text/plain": [
       "Empty DataFrame\n",
       "Columns: [SrNo, TransactionDate, RetailerId, RetailerName, State, City, Lat, Long, ProductItemID, Category, Brand, Product, PackagingType, PackagingQty, PackagingCategory, PackagingQty_N_ml, MRP_UnitPrice, Product_Launch_Date, IsNewProduct, SalesChannel, ChannelType, OrderQty, OrderQty_N, SalesValue, Discount, Country, CostPerUnit, MarginPercentage, Profit]\n",
       "Index: []\n",
       "\n",
       "[0 rows x 29 columns]"
      ]
     },
     "execution_count": 80,
     "metadata": {},
     "output_type": "execute_result"
    }
   ],
   "source": [
    "data[data['ProductItemID']=='2']"
   ]
  },
  {
   "cell_type": "code",
   "execution_count": 81,
   "metadata": {},
   "outputs": [
    {
     "data": {
      "text/html": [
       "<div>\n",
       "<style scoped>\n",
       "    .dataframe tbody tr th:only-of-type {\n",
       "        vertical-align: middle;\n",
       "    }\n",
       "\n",
       "    .dataframe tbody tr th {\n",
       "        vertical-align: top;\n",
       "    }\n",
       "\n",
       "    .dataframe thead th {\n",
       "        text-align: right;\n",
       "    }\n",
       "</style>\n",
       "<table border=\"1\" class=\"dataframe\">\n",
       "  <thead>\n",
       "    <tr style=\"text-align: right;\">\n",
       "      <th></th>\n",
       "      <th>SrNo</th>\n",
       "      <th>TransactionDate</th>\n",
       "      <th>RetailerId</th>\n",
       "      <th>RetailerName</th>\n",
       "      <th>State</th>\n",
       "      <th>City</th>\n",
       "      <th>Lat</th>\n",
       "      <th>Long</th>\n",
       "      <th>ProductItemID</th>\n",
       "      <th>Category</th>\n",
       "      <th>...</th>\n",
       "      <th>SalesChannel</th>\n",
       "      <th>ChannelType</th>\n",
       "      <th>OrderQty</th>\n",
       "      <th>OrderQty_N</th>\n",
       "      <th>SalesValue</th>\n",
       "      <th>Discount</th>\n",
       "      <th>Country</th>\n",
       "      <th>CostPerUnit</th>\n",
       "      <th>MarginPercentage</th>\n",
       "      <th>Profit</th>\n",
       "    </tr>\n",
       "  </thead>\n",
       "  <tbody>\n",
       "    <tr>\n",
       "      <th>0</th>\n",
       "      <td>1</td>\n",
       "      <td>2020/08/26</td>\n",
       "      <td>376</td>\n",
       "      <td>Kiwi Corner Creations</td>\n",
       "      <td>Christchurch</td>\n",
       "      <td>Canterbury</td>\n",
       "      <td>-43.5321</td>\n",
       "      <td>172.6362</td>\n",
       "      <td>65</td>\n",
       "      <td>Cold Bewerages</td>\n",
       "      <td>...</td>\n",
       "      <td>E-Commerce</td>\n",
       "      <td>Online</td>\n",
       "      <td>254</td>\n",
       "      <td>254</td>\n",
       "      <td>34290</td>\n",
       "      <td>10</td>\n",
       "      <td>New Zealand</td>\n",
       "      <td>128</td>\n",
       "      <td>0.15</td>\n",
       "      <td>1905</td>\n",
       "    </tr>\n",
       "    <tr>\n",
       "      <th>1</th>\n",
       "      <td>2</td>\n",
       "      <td>2021/06/09</td>\n",
       "      <td>324</td>\n",
       "      <td>Krabi Craftsmarket</td>\n",
       "      <td>Ao Nang</td>\n",
       "      <td>Krabi</td>\n",
       "      <td>8.0376</td>\n",
       "      <td>98.8150</td>\n",
       "      <td>24</td>\n",
       "      <td>Cold Bewerages</td>\n",
       "      <td>...</td>\n",
       "      <td>Vending Machines</td>\n",
       "      <td>D2C</td>\n",
       "      <td>80</td>\n",
       "      <td>80</td>\n",
       "      <td>4560</td>\n",
       "      <td>5</td>\n",
       "      <td>Thailand</td>\n",
       "      <td>48</td>\n",
       "      <td>0.20</td>\n",
       "      <td>720</td>\n",
       "    </tr>\n",
       "  </tbody>\n",
       "</table>\n",
       "<p>2 rows × 29 columns</p>\n",
       "</div>"
      ],
      "text/plain": [
       "   SrNo TransactionDate  RetailerId                 RetailerName  \\\n",
       "0     1      2020/08/26         376    Kiwi Corner Creations       \n",
       "1     2      2021/06/09         324   Krabi Craftsmarket           \n",
       "\n",
       "                  State        City      Lat      Long  ProductItemID  \\\n",
       "0   Christchurch         Canterbury -43.5321  172.6362             65   \n",
       "1   Ao Nang                   Krabi   8.0376   98.8150             24   \n",
       "\n",
       "         Category  ...      SalesChannel ChannelType OrderQty OrderQty_N  \\\n",
       "0  Cold Bewerages  ...        E-Commerce      Online      254        254   \n",
       "1  Cold Bewerages  ...  Vending Machines         D2C       80         80   \n",
       "\n",
       "  SalesValue  Discount        Country CostPerUnit MarginPercentage Profit  \n",
       "0      34290        10   New Zealand          128             0.15   1905  \n",
       "1       4560         5   Thailand              48             0.20    720  \n",
       "\n",
       "[2 rows x 29 columns]"
      ]
     },
     "execution_count": 81,
     "metadata": {},
     "output_type": "execute_result"
    }
   ],
   "source": [
    "data.head(2)"
   ]
  },
  {
   "cell_type": "code",
   "execution_count": 82,
   "metadata": {},
   "outputs": [
    {
     "name": "stdout",
     "output_type": "stream",
     "text": [
      "Correlation between Cost Per Unit and Sales Value for Each Brand:\n",
      "                     Correlation\n",
      "Brand                           \n",
      "Charged by Thums Up     0.244677\n",
      "Coca_Cola               0.646293\n",
      "Costa Coffee                 NaN\n",
      "Fanta                   0.699928\n",
      "Georgia                      NaN\n",
      "Honest Tea                   NaN\n",
      "Kinley                  0.725953\n",
      "Kinley Soda             0.404734\n",
      "Limca                   0.620308\n",
      "Maaza                   0.576728\n",
      "Minute Maid             0.229483\n",
      "RimZim                  0.693782\n",
      "Schweppes                    NaN\n",
      "Smartwater                   NaN\n",
      "Sprite                  0.632954\n",
      "Thums Up                0.705924\n"
     ]
    }
   ],
   "source": [
    "\n",
    "\n",
    "correlations_per_brand = data.groupby(['Brand']).apply(lambda x: x['CostPerUnit'].corr(x['SalesValue']))\n",
    "\n",
    "correlations_df = pd.DataFrame(correlations_per_brand, columns=['Correlation'])\n",
    "\n",
    "print(\"Correlation between Cost Per Unit and Sales Value for Each Brand:\")\n",
    "print(correlations_df)\n"
   ]
  },
  {
   "cell_type": "markdown",
   "metadata": {},
   "source": [
    "Brand such as :\n",
    "\n",
    "Coca-Cola\n",
    "Fanta\n",
    "Limca\n",
    "Kinley\n",
    "Rimzim\n",
    "Sprite\n",
    "Thumps-up\n",
    "\n",
    "are generating high sales with low cost per unit\n",
    "\n",
    "Brand such as:\n",
    "\n",
    "Costa-Coffee\n",
    "Honest-Tea\n",
    "Schweppes  \n",
    "Smartwater\n",
    "\n",
    "performing badly despite their very low cost per unit."
   ]
  },
  {
   "cell_type": "code",
   "execution_count": 83,
   "metadata": {},
   "outputs": [
    {
     "data": {
      "text/plain": [
       "'LAPTOP-IKLQS1NQ'"
      ]
     },
     "execution_count": 83,
     "metadata": {},
     "output_type": "execute_result"
    }
   ],
   "source": [
    "import socket\n",
    "socket.gethostname()"
   ]
  },
  {
   "cell_type": "code",
   "execution_count": 84,
   "metadata": {},
   "outputs": [
    {
     "data": {
      "text/plain": [
       "['SQL Server',\n",
       " 'Microsoft Access Driver (*.mdb, *.accdb)',\n",
       " 'Microsoft Excel Driver (*.xls, *.xlsx, *.xlsm, *.xlsb)',\n",
       " 'Microsoft Access Text Driver (*.txt, *.csv)',\n",
       " 'SQL Server Native Client RDA 11.0',\n",
       " 'ODBC Driver 17 for SQL Server']"
      ]
     },
     "execution_count": 84,
     "metadata": {},
     "output_type": "execute_result"
    }
   ],
   "source": [
    "pyodbc.drivers()"
   ]
  },
  {
   "cell_type": "code",
   "execution_count": 87,
   "metadata": {},
   "outputs": [
    {
     "data": {
      "text/plain": [
       "16"
      ]
     },
     "execution_count": 87,
     "metadata": {},
     "output_type": "execute_result"
    }
   ],
   "source": [
    "import sqlalchemy,pyodbc\n",
    "conn=sqlalchemy.create_engine(f'mssql+pyodbc://LAPTOP-IKLQS1NQ\\SQLEXPRESS/master?trusted_connection=yes&driver=ODBC Driver 17 for SQL Server'\n",
    ")\n",
    "data.to_sql(\"BeverageSales\",con=conn,if_exists=\"replace\",index=False)\n"
   ]
  },
  {
   "cell_type": "code",
   "execution_count": null,
   "metadata": {},
   "outputs": [],
   "source": []
  }
 ],
 "metadata": {
  "kernelspec": {
   "display_name": "Python 3",
   "language": "python",
   "name": "python3"
  },
  "language_info": {
   "codemirror_mode": {
    "name": "ipython",
    "version": 3
   },
   "file_extension": ".py",
   "mimetype": "text/x-python",
   "name": "python",
   "nbconvert_exporter": "python",
   "pygments_lexer": "ipython3",
   "version": "3.11.9"
  }
 },
 "nbformat": 4,
 "nbformat_minor": 2
}
